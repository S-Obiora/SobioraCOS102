{
 "cells": [
  {
   "cell_type": "code",
   "execution_count": 1,
   "id": "52203e3e-6ae1-4231-93eb-14d1c293e882",
   "metadata": {},
   "outputs": [
    {
     "name": "stdin",
     "output_type": "stream",
     "text": [
      "Enter name of city 1:  aba\n",
      "Enter name of City 2:  kiliki\n"
     ]
    },
    {
     "name": "stdout",
     "output_type": "stream",
     "text": [
      "The name of city 1 after swapping is kiliki\n",
      "The name of city 2 after swapping is aba\n"
     ]
    }
   ],
   "source": [
    "#python program to swap two cities\n",
    "\n",
    "#to take inputs from user\n",
    "city_1 = input('Enter name of city 1: ')\n",
    "city_2 = input('Enter name of City 2: ')\n",
    "\n",
    "# create a temporary variable and swap the cities\n",
    "temp = city_1\n",
    "city_1 = city_2\n",
    "city_2 = temp\n",
    "\n",
    "print(f'The name of city 1 after swapping is {city_1}')\n",
    "print(f'The name of city 2 after swapping is {city_2}')"
   ]
  },
  {
   "cell_type": "code",
   "execution_count": null,
   "id": "3f705d92-17c3-4ed9-a4b9-9d967b109bd9",
   "metadata": {},
   "outputs": [],
   "source": []
  }
 ],
 "metadata": {
  "kernelspec": {
   "display_name": "Python 3 (ipykernel)",
   "language": "python",
   "name": "python3"
  },
  "language_info": {
   "codemirror_mode": {
    "name": "ipython",
    "version": 3
   },
   "file_extension": ".py",
   "mimetype": "text/x-python",
   "name": "python",
   "nbconvert_exporter": "python",
   "pygments_lexer": "ipython3",
   "version": "3.11.7"
  }
 },
 "nbformat": 4,
 "nbformat_minor": 5
}
