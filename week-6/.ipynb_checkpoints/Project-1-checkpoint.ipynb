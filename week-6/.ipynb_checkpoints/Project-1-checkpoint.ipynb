{
 "cells": [
  {
   "cell_type": "code",
   "execution_count": null,
   "id": "d1dd3146-07b3-4169-a1b0-78ebda80862c",
   "metadata": {},
   "outputs": [],
   "source": [
    "import tkinter as tk\n",
    "from tkinter import messagebox\n",
    "\n",
    "def customerdialogue(user}\n",
    "    window = tk.Toplevel(root)\n",
    "    window.title(\"Simi Services\")\n",
    "    window.geometry(\"500x200\")\n",
    "\n",
    "    label_1 = tk.label(window, text=f\"Welcome! {user}"
   ]
  }
 ],
 "metadata": {
  "kernelspec": {
   "display_name": "Python 3 (ipykernel)",
   "language": "python",
   "name": "python3"
  },
  "language_info": {
   "codemirror_mode": {
    "name": "ipython",
    "version": 3
   },
   "file_extension": ".py",
   "mimetype": "text/x-python",
   "name": "python",
   "nbconvert_exporter": "python",
   "pygments_lexer": "ipython3",
   "version": "3.11.7"
  }
 },
 "nbformat": 4,
 "nbformat_minor": 5
}
