{
 "cells": [
  {
   "cell_type": "code",
   "execution_count": null,
   "id": "d1dd3146-07b3-4169-a1b0-78ebda80862c",
   "metadata": {},
   "outputs": [],
   "source": [
    "import tkinter as tk\n",
    "from tkinter import messagebox\n",
    "from tkinter import ttk\n",
    "\n",
    "\n",
    "def info():\n",
    "    weight = int(weight_entry.get())\n",
    "\n",
    "    if n.get == \"EPE\" and weight > 9:\n",
    "        messagebox.showinfo(\"COST TOTAL\",\"AMOUNT TO BE PAID: N10,000\\n\")\n",
    "    elif n.get() == \"EPE\" and weight < 10:\n",
    "        messagebox.showinfo(\"COST TOTAL\",\"AMOUNT TO BE PAID: N5,000\\n\")\n",
    "    elif n.get == \"IBEJU-LEKKI\" and weight > 9:\n",
    "        messagebox.showinfo(\"COST TOTAL\",\"AMOUNT TO BE PAID: N5,000\\n\")\n",
    "    elif n.get == \"IBEJU-LEKKI\" and weight < 10:\n",
    "        messagebox.showinfo(\"COST TOTAL\",\"AMOUNT TO BE PAID: N3,500\\n\")\n",
    "    else:\n",
    "        messagebox.showerror(\"ERROR\",\"INVALID INFORMATION ENTERED\\n\")\n",
    "\n",
    "\n",
    "root = tk.Tk()\n",
    "root.title(\"Delivery form\")\n",
    "root.geometry(\"500x220\")\n",
    "\n",
    "ttk.Label(root,text = \"Select delivery location\").grid(row = 5, column = 0, padx = 10, pady = 25)\n",
    "n = tk.StringVar()\n",
    "location = ttk.Combobox(root,width = 30, textvariable = n)\n",
    "location[\"values\"] = (\"EPE\",\"IBEJU-LEKKI\")\n",
    "location.grid(column = 1, row = 5)\n",
    "location.current()\n",
    "\n",
    "weight_label = tk.Label(root, text = \"ENTER THE WEIGHT OF YOUR PACKAGE(KG): \").grid(row = 10, column = 0, padx = 10, pady = 25)\n",
    "weight_entry = tk.Entry(root,width = 33)\n",
    "weight_entry.grid(row = 15, column = 1, padx = 10, pady = 25)\n",
    "\n",
    "root.mainloop()"
   ]
  },
  {
   "cell_type": "code",
   "execution_count": null,
   "id": "9c95ad9b-45a3-4020-a83a-79d87c42973c",
   "metadata": {},
   "outputs": [],
   "source": []
  },
  {
   "cell_type": "code",
   "execution_count": null,
   "id": "a228e3c3-d87e-4a19-a47c-75124dd4750c",
   "metadata": {},
   "outputs": [],
   "source": []
  }
 ],
 "metadata": {
  "kernelspec": {
   "display_name": "Python 3 (ipykernel)",
   "language": "python",
   "name": "python3"
  },
  "language_info": {
   "codemirror_mode": {
    "name": "ipython",
    "version": 3
   },
   "file_extension": ".py",
   "mimetype": "text/x-python",
   "name": "python",
   "nbconvert_exporter": "python",
   "pygments_lexer": "ipython3",
   "version": "3.11.7"
  }
 },
 "nbformat": 4,
 "nbformat_minor": 5
}
